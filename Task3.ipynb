{
 "cells": [
  {
   "cell_type": "markdown",
   "id": "c9ae03fa",
   "metadata": {},
   "source": [
    "### Imports"
   ]
  },
  {
   "cell_type": "code",
   "execution_count": 5,
   "id": "c500f5e2",
   "metadata": {},
   "outputs": [],
   "source": [
    "import numpy as np\n",
    "import matplotlib.pyplot as plt\n",
    "from sklearn.model_selection import train_test_split\n",
    "from sklearn.ensemble import RandomForestClassifier\n",
    "from sklearn.decomposition import PCA"
   ]
  },
  {
   "cell_type": "markdown",
   "id": "7d991ae3",
   "metadata": {},
   "source": [
    "### Load dataset"
   ]
  },
  {
   "cell_type": "code",
   "execution_count": 6,
   "id": "a682c8b0",
   "metadata": {},
   "outputs": [
    {
     "ename": "FileNotFoundError",
     "evalue": "[Errno 2] No such file or directory: 'best_svm_model.pkl'",
     "output_type": "error",
     "traceback": [
      "\u001b[31m---------------------------------------------------------------------------\u001b[39m",
      "\u001b[31mFileNotFoundError\u001b[39m                         Traceback (most recent call last)",
      "\u001b[36mCell\u001b[39m\u001b[36m \u001b[39m\u001b[32mIn[6]\u001b[39m\u001b[32m, line 9\u001b[39m\n\u001b[32m      6\u001b[39m X_corrupt = data[\u001b[33m\"\u001b[39m\u001b[33mX\u001b[39m\u001b[33m\"\u001b[39m]\n\u001b[32m      8\u001b[39m \u001b[38;5;66;03m# Load pre-trained SVM model\u001b[39;00m\n\u001b[32m----> \u001b[39m\u001b[32m9\u001b[39m svm = \u001b[43mjoblib\u001b[49m\u001b[43m.\u001b[49m\u001b[43mload\u001b[49m\u001b[43m(\u001b[49m\u001b[33;43m\"\u001b[39;49m\u001b[33;43mbest_svm_model.pkl\u001b[39;49m\u001b[33;43m\"\u001b[39;49m\u001b[43m)\u001b[49m\n",
      "\u001b[36mFile \u001b[39m\u001b[32mc:\\Users\\mariu\\anaconda3\\envs\\INF264\\Lib\\site-packages\\joblib\\numpy_pickle.py:735\u001b[39m, in \u001b[36mload\u001b[39m\u001b[34m(filename, mmap_mode, ensure_native_byte_order)\u001b[39m\n\u001b[32m    733\u001b[39m         obj = _unpickle(fobj, ensure_native_byte_order=ensure_native_byte_order)\n\u001b[32m    734\u001b[39m \u001b[38;5;28;01melse\u001b[39;00m:\n\u001b[32m--> \u001b[39m\u001b[32m735\u001b[39m     \u001b[38;5;28;01mwith\u001b[39;00m \u001b[38;5;28;43mopen\u001b[39;49m\u001b[43m(\u001b[49m\u001b[43mfilename\u001b[49m\u001b[43m,\u001b[49m\u001b[43m \u001b[49m\u001b[33;43m\"\u001b[39;49m\u001b[33;43mrb\u001b[39;49m\u001b[33;43m\"\u001b[39;49m\u001b[43m)\u001b[49m \u001b[38;5;28;01mas\u001b[39;00m f:\n\u001b[32m    736\u001b[39m         \u001b[38;5;28;01mwith\u001b[39;00m _validate_fileobject_and_memmap(f, filename, mmap_mode) \u001b[38;5;28;01mas\u001b[39;00m (\n\u001b[32m    737\u001b[39m             fobj,\n\u001b[32m    738\u001b[39m             validated_mmap_mode,\n\u001b[32m    739\u001b[39m         ):\n\u001b[32m    740\u001b[39m             \u001b[38;5;28;01mif\u001b[39;00m \u001b[38;5;28misinstance\u001b[39m(fobj, \u001b[38;5;28mstr\u001b[39m):\n\u001b[32m    741\u001b[39m                 \u001b[38;5;66;03m# if the returned file object is a string, this means we\u001b[39;00m\n\u001b[32m    742\u001b[39m                 \u001b[38;5;66;03m# try to load a pickle file generated with an version of\u001b[39;00m\n\u001b[32m    743\u001b[39m                 \u001b[38;5;66;03m# Joblib so we load it with joblib compatibility function.\u001b[39;00m\n",
      "\u001b[31mFileNotFoundError\u001b[39m: [Errno 2] No such file or directory: 'best_svm_model.pkl'"
     ]
    }
   ],
   "source": [
    "# Load corrupted dataset\n",
    "import joblib\n",
    "\n",
    "\n",
    "data = np.load(\"dataset_corrupted.npz\")\n",
    "X_corrupt = data[\"X\"]\n",
    "\n",
    "# Load pre-trained SVM model\n",
    "svm = joblib.load(\"best_svm_model.pkl\")\n"
   ]
  },
  {
   "cell_type": "markdown",
   "id": "d1966db3",
   "metadata": {},
   "source": []
  },
  {
   "cell_type": "code",
   "execution_count": null,
   "id": "9090e68a",
   "metadata": {},
   "outputs": [],
   "source": [
    "# Predict class probabilities for each image\n",
    "probs = svm.predict_proba(X_corrupt)\n",
    "\n",
    "# Model confidence = highest class probability\n",
    "confidence = np.max(probs, axis=1)\n",
    "\n",
    "# Corruption score = 1 - confidence (lower confidence → higher corruption)\n",
    "scores = 1 - confidence\n"
   ]
  },
  {
   "cell_type": "markdown",
   "id": "5dd60521",
   "metadata": {},
   "source": []
  },
  {
   "cell_type": "code",
   "execution_count": null,
   "id": "1c84cfd3",
   "metadata": {},
   "outputs": [],
   "source": [
    "# Data-driven thresholds\n",
    "percentile_thr = np.percentile(scores, 90)      # Top 10% of suspicious images\n",
    "std_thr = np.mean(scores) + 2 * np.std(scores)  # Mean + 2 standard deviations\n",
    "\n",
    "print(f\"90th percentile threshold: {percentile_thr:.3f}\")\n",
    "print(f\"Mean + 2σ threshold: {std_thr:.3f}\")\n"
   ]
  },
  {
   "cell_type": "markdown",
   "id": "c5b0ec22",
   "metadata": {},
   "source": [
    "## Plot"
   ]
  },
  {
   "cell_type": "code",
   "execution_count": null,
   "id": "14e8e8ee",
   "metadata": {},
   "outputs": [],
   "source": [
    "pred_corrupt_percentile = np.where(scores >= percentile_thr)[0]\n",
    "pred_corrupt_std = np.where(scores >= std_thr)[0]\n",
    "\n",
    "print(f\"Topp 10% (percentile): {len(pred_corrupt_percentile)} flagged\")\n",
    "print(f\"Z-score (mean+2σ): {len(pred_corrupt_std)} flagged\")\n"
   ]
  },
  {
   "cell_type": "code",
   "execution_count": null,
   "id": "30506ce0",
   "metadata": {},
   "outputs": [],
   "source": [
    "plt.figure(figsize=(8,5))\n",
    "plt.hist(scores, bins=30, color=\"lightgray\", edgecolor=\"black\")\n",
    "plt.axvline(percentile_thr, color=\"red\", linestyle=\"--\", label=\"90th percentile\")\n",
    "plt.axvline(std_thr, color=\"blue\", linestyle=\"--\", label=\"mean + 2σ\")\n",
    "plt.xlabel(\"Corruption score (1 – confidence)\")\n",
    "plt.ylabel(\"Frequency\")\n",
    "plt.title(\"Distribution of corruption scores – SVM model\")\n",
    "plt.legend()\n",
    "plt.show()\n"
   ]
  },
  {
   "cell_type": "code",
   "execution_count": null,
   "id": "31094b18",
   "metadata": {},
   "outputs": [],
   "source": [
    "for idx in pred_corrupt_percentile[:10]:\n",
    "    plt.imshow(X_corrupt[idx].reshape(20,20), cmap=\"gray\")\n",
    "    plt.title(f\"Score = {scores[idx]:.3f}\")\n",
    "    plt.axis(\"off\")\n",
    "    plt.show()\n"
   ]
  },
  {
   "cell_type": "code",
   "execution_count": null,
   "id": "7226dafc",
   "metadata": {},
   "outputs": [],
   "source": [
    "expected_corrupt = 89  # Known number of corrupted images\n",
    "false_pos_rate = abs(len(pred_corrupt_percentile) - expected_corrupt) / len(X_corrupt)\n",
    "print(f\"Approx. false positive rate ≈ {false_pos_rate:.2%}\")\n"
   ]
  }
 ],
 "metadata": {
  "kernelspec": {
   "display_name": "Python (INF264)",
   "language": "python",
   "name": "inf264"
  },
  "language_info": {
   "codemirror_mode": {
    "name": "ipython",
    "version": 3
   },
   "file_extension": ".py",
   "mimetype": "text/x-python",
   "name": "python",
   "nbconvert_exporter": "python",
   "pygments_lexer": "ipython3",
   "version": "3.13.5"
  }
 },
 "nbformat": 4,
 "nbformat_minor": 5
}
