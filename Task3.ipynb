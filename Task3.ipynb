{
 "cells": [
  {
   "cell_type": "markdown",
   "id": "c9ae03fa",
   "metadata": {},
   "source": [
    "### Imports"
   ]
  },
  {
   "cell_type": "code",
   "execution_count": null,
   "id": "c500f5e2",
   "metadata": {},
   "outputs": [],
   "source": [
    "import numpy as np\n",
    "import matplotlib.pyplot as plt"
   ]
  },
  {
   "cell_type": "markdown",
   "id": "7d991ae3",
   "metadata": {},
   "source": [
    "### Load dataset"
   ]
  },
  {
   "cell_type": "code",
   "execution_count": null,
   "id": "a682c8b0",
   "metadata": {},
   "outputs": [],
   "source": [
    "import numpy as np\n",
    "\n",
    "# 1. Last inn treningsdata (med labels)\n",
    "train_data = np.load(\"dataset.npz\")\n",
    "X, y = train_data[\"X\"], train_data[\"y\"]\n",
    "\n",
    "print(\"X shape:\", X.shape)\n",
    "print(\"y shape:\", y.shape)\n",
    "\n",
    "# 2. Last inn korrupt datasett (uten labels)\n",
    "corrupt_data = np.load(\"dataset_corrupted.npz\")  # OBS: riktig filnavn!\n",
    "X_corrupt = corrupt_data[\"X\"]\n",
    "\n",
    "print(\"X_corrupt shape:\", X_corrupt.shape)\n"
   ]
  },
  {
   "cell_type": "markdown",
   "id": "d1966db3",
   "metadata": {},
   "source": []
  },
  {
   "cell_type": "code",
   "execution_count": null,
   "id": "9090e68a",
   "metadata": {},
   "outputs": [],
   "source": [
    "# vis noen tilfeldige bilder fra treningsdataen\n",
    "for i in range(3):\n",
    "    idx = np.random.randint(0, len(X))\n",
    "    plt.imshow(X[idx].reshape(20, 20), cmap=\"gray\", vmin=0, vmax=255)\n",
    "    plt.title(f\"Label: {y[idx]}\")\n",
    "    plt.show()\n",
    "\n",
    "# vis noen fra de korrupte\n",
    "for i in range(3):\n",
    "    idx = np.random.randint(0, len(X_corrupt))\n",
    "    plt.imshow(X_corrupt[idx].reshape(20, 20), cmap=\"gray\", vmin=0, vmax=255)\n",
    "    plt.title(\"Corrupt dataset example\")\n",
    "    plt.show()\n"
   ]
  }
 ],
 "metadata": {
  "kernelspec": {
   "display_name": "Python (INF264)",
   "language": "python",
   "name": "inf264"
  },
  "language_info": {
   "codemirror_mode": {
    "name": "ipython",
    "version": 3
   },
   "file_extension": ".py",
   "mimetype": "text/x-python",
   "name": "python",
   "nbconvert_exporter": "python",
   "pygments_lexer": "ipython3",
   "version": "3.13.5"
  }
 },
 "nbformat": 4,
 "nbformat_minor": 5
}
